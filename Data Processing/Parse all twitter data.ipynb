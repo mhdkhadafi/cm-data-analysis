{
 "cells": [
  {
   "cell_type": "code",
   "execution_count": 1,
   "metadata": {
    "collapsed": true
   },
   "outputs": [],
   "source": [
    "import json\n",
    "import difflib\n",
    "import re"
   ]
  },
  {
   "cell_type": "code",
   "execution_count": 2,
   "metadata": {
    "collapsed": true
   },
   "outputs": [],
   "source": [
    "def load_tweet_data(data,file):\n",
    "\ttweets_file = open(file,'r')\n",
    "\tfor line in tweets_file:\n",
    "\t\titem = {}\n",
    "\t\ttry:\n",
    "\t\t\ttweet = json.loads(line)\n",
    "\t\t\titem[\"created_at\"] = tweet[\"created_at\"]\n",
    "\t\t\titem[\"text\"] = tweet[\"text\"].encode('ascii','ignore')\n",
    "\t\t\tdata.append(item)\n",
    "\t\texcept:\n",
    "\t\t\tcontinue"
   ]
  },
  {
   "cell_type": "code",
   "execution_count": 3,
   "metadata": {
    "collapsed": true
   },
   "outputs": [],
   "source": [
    "def parse_data(uncategoried,movie,unmovie):\n",
    "\tfor item in uncategoried:\n",
    "\t\tflag = [0,0,0,0,0,0,0,0,0,0]\n",
    "\t\tcount = 0\n",
    "\t\t\n",
    "\t\tmovie_1 = re.compile(r'paul.blart|mall.cop|paulblart|mallcop')\n",
    "\t\tif movie_1.search(item[\"text\"].lower()) is not None:\n",
    "\t\t\tflag[0] = 1\n",
    "\t\t\tcount += 1\n",
    "\n",
    "\t\tmovie_2 = re.compile(r'unfriended')\n",
    "\t\tif movie_2.search(item[\"text\"].lower()) is not None:\n",
    "\t\t\tflag[1] = 1\n",
    "\t\t\tcount += 1\n",
    "\n",
    "\t\tmovie_3 = re.compile(r'child.44')\n",
    "\t\tif movie_3.search(item[\"text\"].lower()) is not None:\n",
    "\t\t\tflag[2] = 1\n",
    "\t\t\tcount += 1\n",
    "\n",
    "\t\tmovie_4 = re.compile(r'monkey.kingdom')\n",
    "\t\tif movie_4.search(item[\"text\"].lower()) is not None:\n",
    "\t\t\tflag[3] = 1\n",
    "\t\t\tcount += 1\n",
    "\n",
    "\t\tmovie_5 = re.compile(r'true.story')\n",
    "\t\tif movie_5.search(item[\"text\"].lower()) is not None:\n",
    "\t\t\tflag[4] = 1\n",
    "\t\t\tcount += 1\n",
    "\n",
    "\t\tmovie_6 = re.compile(r'alex.of.venice')\n",
    "\t\tif movie_6.search(item[\"text\"].lower()) is not None:\n",
    "\t\t\tflag[5] = 1\n",
    "\t\t\tcount += 1\n",
    "\n",
    "\t\tmovie_7 = re.compile(r'beyond.the.reach')\n",
    "\t\tif movie_7.search(item[\"text\"].lower()) is not None:\n",
    "\t\t\tflag[6] = 1\n",
    "\t\t\tcount += 1\n",
    "\n",
    "\t\tmovie_8 = re.compile(r'felix.and.meira')\n",
    "\t\tif movie_8.search(item[\"text\"].lower()) is not None:\n",
    "\t\t\tflag[7] = 1\n",
    "\t\t\tcount += 1\n",
    "\n",
    "\t\tmovie_9 = re.compile(r'monsters|dark.continent')\n",
    "\t\tif movie_9.search(item[\"text\"].lower()) is not None:\n",
    "\t\t\tflag[8] = 1\n",
    "\t\t\tcount += 1\n",
    "\n",
    "\t\tmovie_10 = re.compile(r'dead.lands')\n",
    "\t\tif movie_10.search(item[\"text\"].lower()) is not None:\n",
    "\t\t\tflag[9] = 1\n",
    "\t\t\tcount += 1\n",
    "\n",
    "\t\tif(count==1):\n",
    "\t\t\tfor i in range(10):\n",
    "\t\t\t\tif(flag[i]==1):\n",
    "\t\t\t\t\tmovie[i].append(item)\n",
    "\t\telse:\n",
    "\t\t\tunmovie.append(item)"
   ]
  },
  {
   "cell_type": "code",
   "execution_count": null,
   "metadata": {
    "collapsed": true
   },
   "outputs": [],
   "source": [
    "tweet_data = []\n",
    "classified_movie = [[],[],[],[],[],[],[],[],[],[]]\n",
    "unclassied_movie = []\n",
    "movie_tweet = {'movie_tweet':[]}\n",
    "\n",
    "#load twitter data\n",
    "load_tweet_data(tweet_data, \"twitter_data1.txt\")\n",
    "load_tweet_data(tweet_data, \"twitter_data.txt\")\n",
    "load_tweet_data(tweet_data, \"tweeeettt.txt\")\n",
    "load_tweet_data(tweet_data, \"tweeeettt2.txt\")\n",
    "print len(tweet_data)\n",
    "\n",
    "\n",
    "parse_data(tweet_data,classified_movie,unclassied_movie)\n",
    "print len(unclassied_movie)\n",
    "\n",
    "movie = ['paul blart','unfriended','child 44','monkey kingdom','true story','alex of venice','beyond the reach','felix and meira','monsters','dead lands']\n",
    "\n",
    "for i in range(10):\n",
    "\ttemp = {'title': movie[i],'tweets': classified_movie[i]}\n",
    "\tmovie_tweet['movie_tweet'].append(temp)\n",
    "\n",
    "f = open ('movie_tweet.txt', 'w')\n",
    "f.write(json.dumps(movie_tweet))\n"
   ]
  }
 ],
 "metadata": {
  "kernelspec": {
   "display_name": "Python 2",
   "language": "python",
   "name": "python2"
  },
  "language_info": {
   "codemirror_mode": {
    "name": "ipython",
    "version": 2
   },
   "file_extension": ".py",
   "mimetype": "text/x-python",
   "name": "python",
   "nbconvert_exporter": "python",
   "pygments_lexer": "ipython2",
   "version": "2.7.6"
  }
 },
 "nbformat": 4,
 "nbformat_minor": 0
}
