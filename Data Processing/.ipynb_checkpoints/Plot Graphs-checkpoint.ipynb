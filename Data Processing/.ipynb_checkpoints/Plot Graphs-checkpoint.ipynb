{
 "cells": [
  {
   "cell_type": "code",
   "execution_count": 1,
   "metadata": {
    "collapsed": true
   },
   "outputs": [],
   "source": [
    "import json\n",
    "import os\n",
    "import matplotlib.pyplot as plt\n",
    "import numpy\n",
    "from sklearn import linear_model"
   ]
  },
  {
   "cell_type": "code",
   "execution_count": 2,
   "metadata": {
    "collapsed": true
   },
   "outputs": [],
   "source": [
    "def load_imdb_data(data, file):\n",
    "    imdb_file = open(file, 'r')\n",
    "    imdb = json.load(imdb_file)\n",
    "    for item in imdb[\"movie_ratings\"][0][\"ratings\"]:\n",
    "        data.append(float(item[\"rating\"]))\n",
    "\n",
    "\n",
    "def load_sentimental_data(sentimental_data, file_name):\n",
    "    sentimental_file = open(file_name, 'r')\n",
    "    sentimental = json.load(sentimental_file)\n",
    "    for item in sentimental[\"sentiments\"]:\n",
    "        if (float(item[\"sentiment\"]) != 0):\n",
    "            sentimental_data.append(float(item[\"sentiment\"]))"
   ]
  },
  {
   "cell_type": "code",
   "execution_count": 5,
   "metadata": {
    "collapsed": false
   },
   "outputs": [],
   "source": [
    "if not os.path.exists('plots'):\n",
    "    os.makedirs('plots')\n",
    "\n",
    "imdb_data = [[], [], [], [], [], [], [], [], [], []]\n",
    "sentiment_data = [[], [], [], [], [], [], [], [], [], []]\n",
    "movies = ['alex of venice', 'beyond the reach', 'child 44', 'dead lands', 'felix and meira', 'monkey kingdom',\n",
    "          'monsters', 'paul blart', 'true story', 'unfriended']\n",
    "movie_names = ['Alex of Venice', 'Beyond the Reach', 'Child 44', 'The Dead Lands', 'Felix and Meira', 'Monkey Kingdom',\n",
    "          'Monsters - Dark Continent', 'Paul Blart - Mall Cop 2', 'True Story', 'Unfriended']\n",
    "\n",
    "for i in range(0, len(movies)):\n",
    "    load_imdb_data(imdb_data[i], \"imdb_data/\" + movies[i] + \".txt\")\n",
    "    load_sentimental_data(sentiment_data[i], \"zero_fitted_tweets/zero_fitted_tweet_\" + movies[i] + \".txt\")\n",
    "\n",
    "# plot the rating tendency of the ten movies together using IMDB data\n",
    "plot1, = plt.plot(imdb_data[0])\n",
    "plot2, = plt.plot(imdb_data[1])\n",
    "plot3, = plt.plot(imdb_data[2])\n",
    "plot4, = plt.plot(imdb_data[3])\n",
    "plot5, = plt.plot(imdb_data[4])\n",
    "plot6, = plt.plot(imdb_data[5])\n",
    "plot7, = plt.plot(imdb_data[6])\n",
    "plot8, = plt.plot(imdb_data[7])\n",
    "plot9, = plt.plot(imdb_data[8])\n",
    "plot10, = plt.plot(imdb_data[9])\n",
    "\n",
    "plt.title(\"The rating tendency of the ten movies from IMDB\")\n",
    "plt.xlabel('Time')\n",
    "plt.ylabel('IMDB Rating')\n",
    "plt.legend([plot1, plot2, plot3, plot4, plot5, plot6, plot7, plot8, plot9, plot10], (\n",
    "    movie_names[0], movie_names[1], movie_names[2], movie_names[3], movie_names[4], movie_names[5], \n",
    "        movie_names[6], movie_names[7], movie_names[8], movie_names[9]),\n",
    "           loc=1,\n",
    "           prop={'size': 5})  # make legend\n",
    "plt.savefig('plots/ten_movies')"
   ]
  },
  {
   "cell_type": "code",
   "execution_count": 6,
   "metadata": {
    "collapsed": true
   },
   "outputs": [],
   "source": [
    "\n",
    "def plot_tendency(imdb, tweet, movie_name, interval):\n",
    "    # Average out the interval from 10 minutes to 'interval' (60 minutes)\n",
    "    new_imdb = []\n",
    "    to_average = interval/10\n",
    "    for i in range(0, len(imdb), to_average):\n",
    "        addition = len(imdb) - i\n",
    "        if addition > to_average:\n",
    "            addition = to_average\n",
    "        total = 0\n",
    "        for j in range(0, addition):\n",
    "            total += imdb[i+j]\n",
    "        new_imdb.append(total/to_average)\n",
    "\n",
    "    new_tweet = []\n",
    "    for i in range(0, len(tweet), to_average):\n",
    "        addition = len(tweet) - i\n",
    "        if addition > to_average:\n",
    "            addition = to_average\n",
    "        total = 0\n",
    "        for j in range(0, addition):\n",
    "            total += tweet[i+j]\n",
    "        new_tweet.append(total/to_average)\n",
    "\n",
    "    x_range = len(new_tweet)\n",
    "\n",
    "    fig = plt.figure()\n",
    "    my_xticks = ['']*(len(tweet)/to_average)\n",
    "    my_xticks[0] = '04/16/2015 - 13:36:00'\n",
    "    my_xticks[len(my_xticks)/2] = '04/18/2015 - 17:36:00'\n",
    "    my_xticks[-1] = '04/20/2015 - 21:46:00'\n",
    "    plt.xticks(range(0, (len(tweet)/to_average)), my_xticks)\n",
    "\n",
    "    ax = fig.add_subplot(111)\n",
    "    ax.plot(new_imdb, '-b', label='imdb_rating')\n",
    "    ax2 = ax.twinx()\n",
    "    ax2.plot(new_tweet, '-r', label='sentiment')\n",
    "    \n",
    "    # Fit the tweet data with linear regression\n",
    "    regr = linear_model.LinearRegression()\n",
    "    regr.fit(numpy.array(range(0, len(tweet)))[:, numpy.newaxis], numpy.array(tweet))\n",
    "    \n",
    "    ax2.plot(numpy.array(range(0, len(tweet)))[:, numpy.newaxis],\n",
    "             regr.predict(numpy.array(range(0, len(tweet)))[:, numpy.newaxis]), color='green', linewidth=2,\n",
    "             linestyle='--', label='fitted_sentiment')\n",
    "    ax.legend(loc=2)\n",
    "    ax2.legend(loc=1)\n",
    "    \n",
    "    # ax.grid()\n",
    "    ax.set_ylim(-1, 11)\n",
    "    # ax.set_ylim(min_rating - 0.5, max_rating + 0.5)\n",
    "    ax2.set_ylim(-10, 110)\n",
    "    ax.set_xlim(0, x_range)\n",
    "    ax.set_xlabel(\"Time\")\n",
    "    ax.set_ylabel(\"IMDB Rating\")\n",
    "    ax2.set_ylabel(\"Sentiment Ratio\")\n",
    "\n",
    "    plt.title(movie_name)\n",
    "    plt.savefig(\"plots/each_movie/\" + movie_name)"
   ]
  },
  {
   "cell_type": "code",
   "execution_count": 7,
   "metadata": {
    "collapsed": true
   },
   "outputs": [],
   "source": [
    "if not os.path.exists('plots/each_movie'):\n",
    "    os.makedirs('plots/each_movie')\n",
    "    \n",
    "interval = 60\n",
    "for i in range(10):\n",
    "    plot_tendency(imdb_data[i], sentiment_data[i], movie_names[i], interval)"
   ]
  },
  {
   "cell_type": "code",
   "execution_count": null,
   "metadata": {
    "collapsed": true
   },
   "outputs": [],
   "source": []
  }
 ],
 "metadata": {
  "kernelspec": {
   "display_name": "Python 2",
   "language": "python",
   "name": "python2"
  },
  "language_info": {
   "codemirror_mode": {
    "name": "ipython",
    "version": 2
   },
   "file_extension": ".py",
   "mimetype": "text/x-python",
   "name": "python",
   "nbconvert_exporter": "python",
   "pygments_lexer": "ipython2",
   "version": "2.7.6"
  }
 },
 "nbformat": 4,
 "nbformat_minor": 0
}
